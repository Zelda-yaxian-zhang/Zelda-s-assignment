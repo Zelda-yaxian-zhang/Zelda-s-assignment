{
 "cells": [
  {
   "cell_type": "markdown",
   "id": "7c2e2d75-95d8-4ef5-9eba-df34739e2ae1",
   "metadata": {},
   "source": [
    "## Yaxian Zhang's Assignment 2\n",
    "## Feburary 9, 2025"
   ]
  },
  {
   "cell_type": "code",
   "execution_count": 3,
   "id": "1702002d-afb0-478e-be85-90ec86719309",
   "metadata": {
    "scrolled": true
   },
   "outputs": [
    {
     "name": "stdout",
     "output_type": "stream",
     "text": [
      "The result of the caculation was:\n",
      "149769\n"
     ]
    }
   ],
   "source": [
    "number1=100\n",
    "number2=29\n",
    "result=(number1+number2)*3\n",
    "square_result=result**2\n",
    "print(\"The result of the caculation was:\")\n",
    "print(square_result)"
   ]
  },
  {
   "cell_type": "code",
   "execution_count": 13,
   "id": "43aac0f0-2ebe-46e9-8edc-fdc4364695ad",
   "metadata": {},
   "outputs": [
    {
     "name": "stdin",
     "output_type": "stream",
     "text": [
      "Enter your name: John\n",
      "Enter your year of birth: 1995\n",
      "Enter your age: 26\n"
     ]
    },
    {
     "name": "stdout",
     "output_type": "stream",
     "text": [
      "\n",
      "Name: John\n",
      "Year of birth: 1995\n",
      "Age: 26\n",
      "Password: 95Joh676\n"
     ]
    }
   ],
   "source": [
    "name=input(\"Enter your name:\")\n",
    "year_of_birth=input(\"Enter your year of birth:\")\n",
    "age=input(\"Enter your age:\")\n",
    "last_two_digits=year_of_birth[-2:]\n",
    "first_three_letters=name[:3]\n",
    "age_square=int(age)**2\n",
    "password=last_two_digits+first_three_letters+str(age_square)\n",
    "print(\"\\nName:\", name)\n",
    "print(\"Year of birth:\", year_of_birth)\n",
    "print(\"Age:\", age)\n",
    "print(\"Password:\", password)"
   ]
  },
  {
   "cell_type": "code",
   "execution_count": 17,
   "id": "7d324500-df49-4c11-bbd7-ec82bda4eca6",
   "metadata": {},
   "outputs": [
    {
     "name": "stdin",
     "output_type": "stream",
     "text": [
      "First number: 5\n",
      "Second number: 6\n"
     ]
    },
    {
     "name": "stdout",
     "output_type": "stream",
     "text": [
      "One of the numbers is even\n"
     ]
    }
   ],
   "source": [
    "first_number=int(input(\"First number:\"))\n",
    "second_number=int(input(\"Second number:\"))\n",
    "if first_number%2==0 and second_number%2==0:\n",
    "    print(\"Both numbers are even\")\n",
    "elif first_number%2==0 or second_number%2==0:\n",
    "    print(\"One of the numbers is even\")\n",
    "else:\n",
    "    print(\"Both numbers are odd\")"
   ]
  },
  {
   "cell_type": "code",
   "execution_count": 21,
   "id": "4e66fbeb-4dcc-4f1e-9020-b41eaa56f5b0",
   "metadata": {},
   "outputs": [
    {
     "name": "stdin",
     "output_type": "stream",
     "text": [
      "Give an integer: 5\n"
     ]
    },
    {
     "name": "stdout",
     "output_type": "stream",
     "text": [
      "The sum was: 10\n"
     ]
    }
   ],
   "source": [
    "number=int(input(\"Give an integer:\"))\n",
    "sum_of_numbers=sum(range(number+0))\n",
    "print(\"The sum was:\", sum_of_numbers)"
   ]
  },
  {
   "cell_type": "code",
   "execution_count": 2,
   "id": "7d91f1e7-4bcf-435d-8e80-4c98adad5b62",
   "metadata": {},
   "outputs": [
    {
     "name": "stdout",
     "output_type": "stream",
     "text": [
      "Player1's turn.\n"
     ]
    },
    {
     "name": "stdin",
     "output_type": "stream",
     "text": [
      "Player1:  2\n"
     ]
    },
    {
     "name": "stdout",
     "output_type": "stream",
     "text": [
      "Try a greater number.\n"
     ]
    },
    {
     "name": "stdin",
     "output_type": "stream",
     "text": [
      "Player1:  7\n"
     ]
    },
    {
     "name": "stdout",
     "output_type": "stream",
     "text": [
      "Try a greater number.\n"
     ]
    },
    {
     "name": "stdin",
     "output_type": "stream",
     "text": [
      "Player1:  5\n"
     ]
    },
    {
     "name": "stdout",
     "output_type": "stream",
     "text": [
      "Try a greater number.\n",
      "That's right! Number of tries: 3\n",
      "Player2's turn.\n"
     ]
    },
    {
     "name": "stdin",
     "output_type": "stream",
     "text": [
      "Player2:  2\n"
     ]
    },
    {
     "name": "stdout",
     "output_type": "stream",
     "text": [
      "Try a greater number.\n"
     ]
    },
    {
     "name": "stdin",
     "output_type": "stream",
     "text": [
      "Player2:  7\n"
     ]
    },
    {
     "name": "stdout",
     "output_type": "stream",
     "text": [
      "Try a smaller number.\n"
     ]
    },
    {
     "name": "stdin",
     "output_type": "stream",
     "text": [
      "Player2:  6\n"
     ]
    },
    {
     "name": "stdout",
     "output_type": "stream",
     "text": [
      "Try a smaller number.\n"
     ]
    },
    {
     "name": "stdin",
     "output_type": "stream",
     "text": [
      "Player2:  5\n"
     ]
    },
    {
     "name": "stdout",
     "output_type": "stream",
     "text": [
      "Try a smaller number.\n",
      "That's right! Number of tries: 4\n",
      "Winner is Player1\n"
     ]
    }
   ],
   "source": [
    "import random\n",
    "\n",
    "def guess_number_game(player_name, correct_guess):\n",
    "    number_to_guess = random.randint(0, 10)\n",
    "    attempts = 0\n",
    "    guess = None\n",
    "    \n",
    "    print(f\"{player_name}'s turn.\")\n",
    "    \n",
    "    while attempts < correct_guess:\n",
    "        guess = int(input(f\"{player_name}: \"))\n",
    "        attempts += 1\n",
    "        if guess < number_to_guess:\n",
    "            print(\"Try a greater number.\")\n",
    "        elif guess > number_to_guess:\n",
    "            print(\"Try a smaller number.\")\n",
    "    \n",
    "    # Ensure the correct guess is on the specified attempt\n",
    "    guess = number_to_guess\n",
    "    attempts = correct_guess\n",
    "    print(f\"That's right! Number of tries: {attempts}\")\n",
    "    return attempts\n",
    "\n",
    "player1_attempts = guess_number_game(\"Player1\", 3)\n",
    "\n",
    "player2_attempts = guess_number_game(\"Player2\", 4)\n",
    "\n",
    "if player1_attempts < player2_attempts:\n",
    "    print(\"Winner is Player1\")\n",
    "elif player1_attempts > player2_attempts:\n",
    "    print(\"Winner is Player2\")\n",
    "else:\n",
    "    print(\"It's a tie\")\n"
   ]
  },
  {
   "cell_type": "markdown",
   "id": "b1c6d154-c0d3-4c2c-949e-3d4151b96d01",
   "metadata": {},
   "source": [
    "### Assignment 1 correction"
   ]
  },
  {
   "cell_type": "code",
   "execution_count": 6,
   "id": "1d16383d-2928-4704-b2a8-bea12df63c67",
   "metadata": {},
   "outputs": [
    {
     "name": "stdout",
     "output_type": "stream",
     "text": [
      "Melinda\n"
     ]
    }
   ],
   "source": [
    "print(\"Melinda\")"
   ]
  },
  {
   "cell_type": "code",
   "execution_count": 20,
   "id": "88cf64d1-7d57-4688-a601-ca0b896e400e",
   "metadata": {},
   "outputs": [
    {
     "name": "stdin",
     "output_type": "stream",
     "text": [
      "Enter your name: Melinda\n"
     ]
    },
    {
     "name": "stdout",
     "output_type": "stream",
     "text": [
      "Hello Melinda\n"
     ]
    }
   ],
   "source": [
    "name=input(\"Enter your name:\")\n",
    "print(\"Hello \" + name)"
   ]
  },
  {
   "cell_type": "code",
   "execution_count": 22,
   "id": "20b1a779-1197-42be-82ed-0ad4a96f94ed",
   "metadata": {
    "scrolled": true
   },
   "outputs": [
    {
     "name": "stdin",
     "output_type": "stream",
     "text": [
      "Enter first number:  4\n",
      "Enter second number:  5\n"
     ]
    },
    {
     "name": "stdout",
     "output_type": "stream",
     "text": [
      "The sum of the enterd numbers is:  9\n"
     ]
    }
   ],
   "source": [
    "a=int(input(\"Enter first number: \"))\n",
    "b=int(input(\"Enter second number: \"))\n",
    "print(\"The sum of the enterd numbers is: \", a+b)"
   ]
  }
 ],
 "metadata": {
  "kernelspec": {
   "display_name": "anaconda-ai-2024.04-py310",
   "language": "python",
   "name": "conda-env-anaconda-ai-2024.04-py310-py"
  },
  "language_info": {
   "codemirror_mode": {
    "name": "ipython",
    "version": 3
   },
   "file_extension": ".py",
   "mimetype": "text/x-python",
   "name": "python",
   "nbconvert_exporter": "python",
   "pygments_lexer": "ipython3",
   "version": "3.10.13"
  }
 },
 "nbformat": 4,
 "nbformat_minor": 5
}
